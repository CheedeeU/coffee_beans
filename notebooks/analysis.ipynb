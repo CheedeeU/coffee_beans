{
 "cells": [
  {
   "cell_type": "markdown",
   "id": "63d0a69d",
   "metadata": {},
   "source": [
    "# Analysis\n",
    "\n",
    "Create your own EDA below! Create as many code-blocks as you need.\n",
    "\n",
    "Once you've completed your EDA, complete the section titled **Reflections** where you will answer questions about your EDA."
   ]
  },
  {
   "cell_type": "code",
   "execution_count": 3,
   "id": "6655a736",
   "metadata": {},
   "outputs": [],
   "source": [
    "import pandas as pd \n",
    "import numpy as np\n",
    "\n",
    "import seaborn as sns\n",
    "import matplotlib.pyplot as plt"
   ]
  },
  {
   "cell_type": "code",
   "execution_count": 14,
   "id": "868ea7cd",
   "metadata": {},
   "outputs": [],
   "source": [
    "# import coffee data\n",
    "coffee = pd.read_csv(\"../data/crop/coffee_output.csv\")\n",
    "\n",
    "# import weather data\n",
    "weather12 = pd.read_csv(\"../data/weather/weather_data.csv\")"
   ]
  },
  {
   "cell_type": "code",
   "execution_count": 20,
   "id": "71bfd191",
   "metadata": {},
   "outputs": [],
   "source": [
    "# TODO: Merge these two dataframes together\n",
    "\n",
    "Weather_coffee = pd.merge(weather12,coffee, on=[\"subdivision\",\"year\"])\n",
    "Weather_coffee.to_csv(\"../data/weather/Weather_coffee.csv\", index=False)"
   ]
  },
  {
   "cell_type": "code",
   "execution_count": 21,
   "id": "44f435eb",
   "metadata": {},
   "outputs": [
    {
     "data": {
      "text/html": [
       "<div>\n",
       "<style scoped>\n",
       "    .dataframe tbody tr th:only-of-type {\n",
       "        vertical-align: middle;\n",
       "    }\n",
       "\n",
       "    .dataframe tbody tr th {\n",
       "        vertical-align: top;\n",
       "    }\n",
       "\n",
       "    .dataframe thead th {\n",
       "        text-align: right;\n",
       "    }\n",
       "</style>\n",
       "<table border=\"1\" class=\"dataframe\">\n",
       "  <thead>\n",
       "    <tr style=\"text-align: right;\">\n",
       "      <th></th>\n",
       "      <th>Unnamed: 0</th>\n",
       "      <th>year</th>\n",
       "      <th>rain_max</th>\n",
       "      <th>temp_avg</th>\n",
       "      <th>temp_max</th>\n",
       "      <th>temp_min</th>\n",
       "      <th>hum_max</th>\n",
       "      <th>hum_min</th>\n",
       "      <th>wind_max</th>\n",
       "      <th>wind_avg</th>\n",
       "      <th>subdivision</th>\n",
       "      <th>country</th>\n",
       "      <th>type</th>\n",
       "      <th>60kgs_bag</th>\n",
       "      <th>nonbearing_trees</th>\n",
       "      <th>bearing_trees</th>\n",
       "      <th>nonbear_hectares</th>\n",
       "      <th>bearing_hectares</th>\n",
       "      <th>bearing_trees_per_hectare</th>\n",
       "      <th>nonbearing_trees_per_hectare</th>\n",
       "    </tr>\n",
       "  </thead>\n",
       "  <tbody>\n",
       "    <tr>\n",
       "      <th>0</th>\n",
       "      <td>0</td>\n",
       "      <td>2006</td>\n",
       "      <td>6.670968</td>\n",
       "      <td>21.803087</td>\n",
       "      <td>27.190323</td>\n",
       "      <td>18.654839</td>\n",
       "      <td>97.129032</td>\n",
       "      <td>57.806452</td>\n",
       "      <td>9.706452</td>\n",
       "      <td>2.075207</td>\n",
       "      <td>Minas Gerais</td>\n",
       "      <td>Brazil</td>\n",
       "      <td>Arabica</td>\n",
       "      <td>16.30</td>\n",
       "      <td>581.0</td>\n",
       "      <td>5330.0</td>\n",
       "      <td>175.0</td>\n",
       "      <td>2298.0</td>\n",
       "      <td>2319.0</td>\n",
       "      <td>3320.0</td>\n",
       "    </tr>\n",
       "    <tr>\n",
       "      <th>1</th>\n",
       "      <td>1</td>\n",
       "      <td>2007</td>\n",
       "      <td>1.866250</td>\n",
       "      <td>23.040999</td>\n",
       "      <td>27.649375</td>\n",
       "      <td>18.753125</td>\n",
       "      <td>87.837500</td>\n",
       "      <td>48.493750</td>\n",
       "      <td>8.749375</td>\n",
       "      <td>2.069605</td>\n",
       "      <td>Minas Gerais</td>\n",
       "      <td>Brazil</td>\n",
       "      <td>Arabica</td>\n",
       "      <td>23.70</td>\n",
       "      <td>563.0</td>\n",
       "      <td>5730.0</td>\n",
       "      <td>186.0</td>\n",
       "      <td>2245.0</td>\n",
       "      <td>2552.0</td>\n",
       "      <td>3030.0</td>\n",
       "    </tr>\n",
       "    <tr>\n",
       "      <th>2</th>\n",
       "      <td>2</td>\n",
       "      <td>2008</td>\n",
       "      <td>3.777049</td>\n",
       "      <td>20.682400</td>\n",
       "      <td>27.000000</td>\n",
       "      <td>16.216393</td>\n",
       "      <td>96.136612</td>\n",
       "      <td>51.415301</td>\n",
       "      <td>8.865027</td>\n",
       "      <td>1.584408</td>\n",
       "      <td>Minas Gerais</td>\n",
       "      <td>Brazil</td>\n",
       "      <td>Arabica</td>\n",
       "      <td>16.85</td>\n",
       "      <td>679.0</td>\n",
       "      <td>5720.0</td>\n",
       "      <td>196.0</td>\n",
       "      <td>2235.0</td>\n",
       "      <td>2559.0</td>\n",
       "      <td>3468.0</td>\n",
       "    </tr>\n",
       "    <tr>\n",
       "      <th>3</th>\n",
       "      <td>3</td>\n",
       "      <td>2009</td>\n",
       "      <td>3.380220</td>\n",
       "      <td>21.023802</td>\n",
       "      <td>27.769231</td>\n",
       "      <td>16.410440</td>\n",
       "      <td>96.054945</td>\n",
       "      <td>49.329670</td>\n",
       "      <td>9.114286</td>\n",
       "      <td>1.611746</td>\n",
       "      <td>Minas Gerais</td>\n",
       "      <td>Brazil</td>\n",
       "      <td>Arabica</td>\n",
       "      <td>25.55</td>\n",
       "      <td>663.0</td>\n",
       "      <td>5770.0</td>\n",
       "      <td>188.0</td>\n",
       "      <td>2223.0</td>\n",
       "      <td>2596.0</td>\n",
       "      <td>3527.0</td>\n",
       "    </tr>\n",
       "    <tr>\n",
       "      <th>4</th>\n",
       "      <td>4</td>\n",
       "      <td>2010</td>\n",
       "      <td>2.183516</td>\n",
       "      <td>21.444293</td>\n",
       "      <td>28.580769</td>\n",
       "      <td>16.156044</td>\n",
       "      <td>95.247253</td>\n",
       "      <td>44.648352</td>\n",
       "      <td>9.109341</td>\n",
       "      <td>1.455907</td>\n",
       "      <td>Minas Gerais</td>\n",
       "      <td>Brazil</td>\n",
       "      <td>Arabica</td>\n",
       "      <td>22.10</td>\n",
       "      <td>873.0</td>\n",
       "      <td>5725.0</td>\n",
       "      <td>244.0</td>\n",
       "      <td>2151.0</td>\n",
       "      <td>2662.0</td>\n",
       "      <td>3578.0</td>\n",
       "    </tr>\n",
       "  </tbody>\n",
       "</table>\n",
       "</div>"
      ],
      "text/plain": [
       "   Unnamed: 0  year  rain_max   temp_avg   temp_max   temp_min    hum_max  \\\n",
       "0           0  2006  6.670968  21.803087  27.190323  18.654839  97.129032   \n",
       "1           1  2007  1.866250  23.040999  27.649375  18.753125  87.837500   \n",
       "2           2  2008  3.777049  20.682400  27.000000  16.216393  96.136612   \n",
       "3           3  2009  3.380220  21.023802  27.769231  16.410440  96.054945   \n",
       "4           4  2010  2.183516  21.444293  28.580769  16.156044  95.247253   \n",
       "\n",
       "     hum_min  wind_max  wind_avg   subdivision country     type  60kgs_bag  \\\n",
       "0  57.806452  9.706452  2.075207  Minas Gerais  Brazil  Arabica      16.30   \n",
       "1  48.493750  8.749375  2.069605  Minas Gerais  Brazil  Arabica      23.70   \n",
       "2  51.415301  8.865027  1.584408  Minas Gerais  Brazil  Arabica      16.85   \n",
       "3  49.329670  9.114286  1.611746  Minas Gerais  Brazil  Arabica      25.55   \n",
       "4  44.648352  9.109341  1.455907  Minas Gerais  Brazil  Arabica      22.10   \n",
       "\n",
       "   nonbearing_trees  bearing_trees  nonbear_hectares  bearing_hectares  \\\n",
       "0             581.0         5330.0             175.0            2298.0   \n",
       "1             563.0         5730.0             186.0            2245.0   \n",
       "2             679.0         5720.0             196.0            2235.0   \n",
       "3             663.0         5770.0             188.0            2223.0   \n",
       "4             873.0         5725.0             244.0            2151.0   \n",
       "\n",
       "   bearing_trees_per_hectare  nonbearing_trees_per_hectare  \n",
       "0                     2319.0                        3320.0  \n",
       "1                     2552.0                        3030.0  \n",
       "2                     2559.0                        3468.0  \n",
       "3                     2596.0                        3527.0  \n",
       "4                     2662.0                        3578.0  "
      ]
     },
     "execution_count": 21,
     "metadata": {},
     "output_type": "execute_result"
    }
   ],
   "source": [
    "# TODO: View the first 5 rows of your data\n",
    "\n",
    "Weather_coffee.head()"
   ]
  },
  {
   "cell_type": "code",
   "execution_count": 22,
   "id": "9600b65c",
   "metadata": {},
   "outputs": [
    {
     "data": {
      "text/plain": [
       "<bound method DataFrame.isnull of     Unnamed: 0  year  rain_max   temp_avg   temp_max   temp_min    hum_max  \\\n",
       "0            0  2006  6.670968  21.803087  27.190323  18.654839  97.129032   \n",
       "1            1  2007  1.866250  23.040999  27.649375  18.753125  87.837500   \n",
       "2            2  2008  3.777049  20.682400  27.000000  16.216393  96.136612   \n",
       "3            3  2009  3.380220  21.023802  27.769231  16.410440  96.054945   \n",
       "4            4  2010  2.183516  21.444293  28.580769  16.156044  95.247253   \n",
       "5            5  2011  2.601786  20.959536  27.735714  16.318132  96.060440   \n",
       "6            6  2012  2.255738  21.030624  28.406011  16.003279  96.060109   \n",
       "7            7  2013  3.079121  21.088660  27.976923  16.386813  96.802198   \n",
       "8            8  2014  1.617582  21.163462  28.406044  15.684066  96.214286   \n",
       "9            0  2015  2.876923  21.346828  28.487912  16.475275  97.450549   \n",
       "10           1  2016  2.641860  21.630402  28.855233  16.705233  97.587209   \n",
       "11           2  2017  2.052459  21.404627  28.433607  16.409016  97.155738   \n",
       "12           3  2018  3.567568  21.325718  28.659459  16.174324  98.290541   \n",
       "13           4  2019  3.443956  21.733539  29.010989  16.658791  98.115385   \n",
       "14           5  2020  4.545355  20.884335  27.938251  16.321311  98.010929   \n",
       "15           6  2021  2.715385  20.831525  28.626374  15.268681  97.049451   \n",
       "16           7  2022  3.769231  20.704556  28.110440  15.748901  97.351648   \n",
       "17           8  2023  4.106593  21.046566  28.732967  15.908791  98.500000   \n",
       "\n",
       "      hum_min  wind_max  wind_avg   subdivision country     type  60kgs_bag  \\\n",
       "0   57.806452  9.706452  2.075207  Minas Gerais  Brazil  Arabica      16.30   \n",
       "1   48.493750  8.749375  2.069605  Minas Gerais  Brazil  Arabica      23.70   \n",
       "2   51.415301  8.865027  1.584408  Minas Gerais  Brazil  Arabica      16.85   \n",
       "3   49.329670  9.114286  1.611746  Minas Gerais  Brazil  Arabica      25.55   \n",
       "4   44.648352  9.109341  1.455907  Minas Gerais  Brazil  Arabica      22.10   \n",
       "5   49.252747  8.974176  1.557709  Minas Gerais  Brazil  Arabica      28.50   \n",
       "6   46.366120  9.000000  1.483515  Minas Gerais  Brazil  Arabica      23.50   \n",
       "7   49.390110  8.749451  1.459356  Minas Gerais  Brazil  Arabica      28.50   \n",
       "8   44.824176  8.429121  1.238874  Minas Gerais  Brazil  Arabica      29.40   \n",
       "9   48.406593  8.549451  1.193435  Minas Gerais  Brazil  Arabica      26.00   \n",
       "10  47.587209  8.377907  1.158309  Minas Gerais  Brazil  Arabica      25.30   \n",
       "11  47.475410  7.484426  0.969464  Minas Gerais  Brazil  Arabica      32.50   \n",
       "12  47.047297  8.205405  0.901090  Minas Gerais  Brazil  Arabica      28.30   \n",
       "13  48.230769  7.930220  0.905517  Minas Gerais  Brazil  Arabica      34.20   \n",
       "14  51.005464  7.730055  0.900751  Minas Gerais  Brazil  Arabica      29.10   \n",
       "15  44.824176  7.782418  0.847070  Minas Gerais  Brazil  Arabica      34.80   \n",
       "16  48.543956  7.898352  0.929144  Minas Gerais  Brazil  Arabica      24.50   \n",
       "17  48.857143  7.793956  0.812202  Minas Gerais  Brazil  Arabica      28.50   \n",
       "\n",
       "    nonbearing_trees  bearing_trees  nonbear_hectares  bearing_hectares  \\\n",
       "0              581.0         5330.0             175.0            2298.0   \n",
       "1              563.0         5730.0             186.0            2245.0   \n",
       "2              679.0         5720.0             196.0            2235.0   \n",
       "3              663.0         5770.0             188.0            2223.0   \n",
       "4              873.0         5725.0             244.0            2151.0   \n",
       "5              815.0         5820.0             234.0            2175.0   \n",
       "6              835.0         5760.0             260.0            2150.0   \n",
       "7             1000.0         5860.0             282.0            2105.0   \n",
       "8             1055.0         5810.0             307.0            2135.0   \n",
       "9             1185.0         5770.0             347.0            2090.0   \n",
       "10            1125.0         5735.0             340.0            2070.0   \n",
       "11            1300.0         5640.0             380.0            2020.0   \n",
       "12               NaN            NaN               NaN               NaN   \n",
       "13            1150.0         5740.0             335.0            2060.0   \n",
       "14            1230.0         5700.0             350.0            2040.0   \n",
       "15            1050.0         6200.0             320.0            2100.0   \n",
       "16            1500.0         6010.0             470.0            2010.0   \n",
       "17            1510.0         6100.0             475.0            2020.0   \n",
       "\n",
       "    bearing_trees_per_hectare  nonbearing_trees_per_hectare  \n",
       "0                      2319.0                        3320.0  \n",
       "1                      2552.0                        3030.0  \n",
       "2                      2559.0                        3468.0  \n",
       "3                      2596.0                        3527.0  \n",
       "4                      2662.0                        3578.0  \n",
       "5                      2676.0                        3483.0  \n",
       "6                      2679.0                        3212.0  \n",
       "7                      2784.0                        3546.0  \n",
       "8                      2721.0                        3436.0  \n",
       "9                      2761.0                        3415.0  \n",
       "10                     2771.0                        3309.0  \n",
       "11                     2792.0                        3421.0  \n",
       "12                        NaN                           NaN  \n",
       "13                     2786.0                        3433.0  \n",
       "14                     2794.0                        3514.0  \n",
       "15                     2952.0                        3281.0  \n",
       "16                     2990.0                        3191.0  \n",
       "17                     3020.0                        3179.0  >"
      ]
     },
     "execution_count": 22,
     "metadata": {},
     "output_type": "execute_result"
    }
   ],
   "source": [
    "# TODO: Check for null values \n",
    "\n",
    "Weather_coffee.isnull"
   ]
  },
  {
   "cell_type": "code",
   "execution_count": 23,
   "id": "ff411571",
   "metadata": {},
   "outputs": [
    {
     "data": {
      "text/plain": [
       "<bound method DataFrame.dropna of     Unnamed: 0  year  rain_max   temp_avg   temp_max   temp_min    hum_max  \\\n",
       "0            0  2006  6.670968  21.803087  27.190323  18.654839  97.129032   \n",
       "1            1  2007  1.866250  23.040999  27.649375  18.753125  87.837500   \n",
       "2            2  2008  3.777049  20.682400  27.000000  16.216393  96.136612   \n",
       "3            3  2009  3.380220  21.023802  27.769231  16.410440  96.054945   \n",
       "4            4  2010  2.183516  21.444293  28.580769  16.156044  95.247253   \n",
       "5            5  2011  2.601786  20.959536  27.735714  16.318132  96.060440   \n",
       "6            6  2012  2.255738  21.030624  28.406011  16.003279  96.060109   \n",
       "7            7  2013  3.079121  21.088660  27.976923  16.386813  96.802198   \n",
       "8            8  2014  1.617582  21.163462  28.406044  15.684066  96.214286   \n",
       "9            0  2015  2.876923  21.346828  28.487912  16.475275  97.450549   \n",
       "10           1  2016  2.641860  21.630402  28.855233  16.705233  97.587209   \n",
       "11           2  2017  2.052459  21.404627  28.433607  16.409016  97.155738   \n",
       "12           3  2018  3.567568  21.325718  28.659459  16.174324  98.290541   \n",
       "13           4  2019  3.443956  21.733539  29.010989  16.658791  98.115385   \n",
       "14           5  2020  4.545355  20.884335  27.938251  16.321311  98.010929   \n",
       "15           6  2021  2.715385  20.831525  28.626374  15.268681  97.049451   \n",
       "16           7  2022  3.769231  20.704556  28.110440  15.748901  97.351648   \n",
       "17           8  2023  4.106593  21.046566  28.732967  15.908791  98.500000   \n",
       "\n",
       "      hum_min  wind_max  wind_avg   subdivision country     type  60kgs_bag  \\\n",
       "0   57.806452  9.706452  2.075207  Minas Gerais  Brazil  Arabica      16.30   \n",
       "1   48.493750  8.749375  2.069605  Minas Gerais  Brazil  Arabica      23.70   \n",
       "2   51.415301  8.865027  1.584408  Minas Gerais  Brazil  Arabica      16.85   \n",
       "3   49.329670  9.114286  1.611746  Minas Gerais  Brazil  Arabica      25.55   \n",
       "4   44.648352  9.109341  1.455907  Minas Gerais  Brazil  Arabica      22.10   \n",
       "5   49.252747  8.974176  1.557709  Minas Gerais  Brazil  Arabica      28.50   \n",
       "6   46.366120  9.000000  1.483515  Minas Gerais  Brazil  Arabica      23.50   \n",
       "7   49.390110  8.749451  1.459356  Minas Gerais  Brazil  Arabica      28.50   \n",
       "8   44.824176  8.429121  1.238874  Minas Gerais  Brazil  Arabica      29.40   \n",
       "9   48.406593  8.549451  1.193435  Minas Gerais  Brazil  Arabica      26.00   \n",
       "10  47.587209  8.377907  1.158309  Minas Gerais  Brazil  Arabica      25.30   \n",
       "11  47.475410  7.484426  0.969464  Minas Gerais  Brazil  Arabica      32.50   \n",
       "12  47.047297  8.205405  0.901090  Minas Gerais  Brazil  Arabica      28.30   \n",
       "13  48.230769  7.930220  0.905517  Minas Gerais  Brazil  Arabica      34.20   \n",
       "14  51.005464  7.730055  0.900751  Minas Gerais  Brazil  Arabica      29.10   \n",
       "15  44.824176  7.782418  0.847070  Minas Gerais  Brazil  Arabica      34.80   \n",
       "16  48.543956  7.898352  0.929144  Minas Gerais  Brazil  Arabica      24.50   \n",
       "17  48.857143  7.793956  0.812202  Minas Gerais  Brazil  Arabica      28.50   \n",
       "\n",
       "    nonbearing_trees  bearing_trees  nonbear_hectares  bearing_hectares  \\\n",
       "0              581.0         5330.0             175.0            2298.0   \n",
       "1              563.0         5730.0             186.0            2245.0   \n",
       "2              679.0         5720.0             196.0            2235.0   \n",
       "3              663.0         5770.0             188.0            2223.0   \n",
       "4              873.0         5725.0             244.0            2151.0   \n",
       "5              815.0         5820.0             234.0            2175.0   \n",
       "6              835.0         5760.0             260.0            2150.0   \n",
       "7             1000.0         5860.0             282.0            2105.0   \n",
       "8             1055.0         5810.0             307.0            2135.0   \n",
       "9             1185.0         5770.0             347.0            2090.0   \n",
       "10            1125.0         5735.0             340.0            2070.0   \n",
       "11            1300.0         5640.0             380.0            2020.0   \n",
       "12               NaN            NaN               NaN               NaN   \n",
       "13            1150.0         5740.0             335.0            2060.0   \n",
       "14            1230.0         5700.0             350.0            2040.0   \n",
       "15            1050.0         6200.0             320.0            2100.0   \n",
       "16            1500.0         6010.0             470.0            2010.0   \n",
       "17            1510.0         6100.0             475.0            2020.0   \n",
       "\n",
       "    bearing_trees_per_hectare  nonbearing_trees_per_hectare  \n",
       "0                      2319.0                        3320.0  \n",
       "1                      2552.0                        3030.0  \n",
       "2                      2559.0                        3468.0  \n",
       "3                      2596.0                        3527.0  \n",
       "4                      2662.0                        3578.0  \n",
       "5                      2676.0                        3483.0  \n",
       "6                      2679.0                        3212.0  \n",
       "7                      2784.0                        3546.0  \n",
       "8                      2721.0                        3436.0  \n",
       "9                      2761.0                        3415.0  \n",
       "10                     2771.0                        3309.0  \n",
       "11                     2792.0                        3421.0  \n",
       "12                        NaN                           NaN  \n",
       "13                     2786.0                        3433.0  \n",
       "14                     2794.0                        3514.0  \n",
       "15                     2952.0                        3281.0  \n",
       "16                     2990.0                        3191.0  \n",
       "17                     3020.0                        3179.0  >"
      ]
     },
     "execution_count": 23,
     "metadata": {},
     "output_type": "execute_result"
    }
   ],
   "source": [
    "# TODO: Drop rows that contain null values\n",
    "\n",
    "Weather_coffee.dropna"
   ]
  },
  {
   "cell_type": "code",
   "execution_count": 24,
   "id": "22fd1940",
   "metadata": {},
   "outputs": [
    {
     "data": {
      "text/html": [
       "<div>\n",
       "<style scoped>\n",
       "    .dataframe tbody tr th:only-of-type {\n",
       "        vertical-align: middle;\n",
       "    }\n",
       "\n",
       "    .dataframe tbody tr th {\n",
       "        vertical-align: top;\n",
       "    }\n",
       "\n",
       "    .dataframe thead th {\n",
       "        text-align: right;\n",
       "    }\n",
       "</style>\n",
       "<table border=\"1\" class=\"dataframe\">\n",
       "  <thead>\n",
       "    <tr style=\"text-align: right;\">\n",
       "      <th></th>\n",
       "      <th>temp_avg</th>\n",
       "      <th>60kgs_bag</th>\n",
       "    </tr>\n",
       "  </thead>\n",
       "  <tbody>\n",
       "    <tr>\n",
       "      <th>temp_avg</th>\n",
       "      <td>1.000000</td>\n",
       "      <td>-0.122697</td>\n",
       "    </tr>\n",
       "    <tr>\n",
       "      <th>60kgs_bag</th>\n",
       "      <td>-0.122697</td>\n",
       "      <td>1.000000</td>\n",
       "    </tr>\n",
       "  </tbody>\n",
       "</table>\n",
       "</div>"
      ],
      "text/plain": [
       "           temp_avg  60kgs_bag\n",
       "temp_avg   1.000000  -0.122697\n",
       "60kgs_bag -0.122697   1.000000"
      ]
     },
     "execution_count": 24,
     "metadata": {},
     "output_type": "execute_result"
    }
   ],
   "source": [
    "# TODO: BEGIN YOUR EDA!\n",
    "Weather_coffee[[\"temp_avg\",\"60kgs_bag\"]].corr()\n"
   ]
  },
  {
   "cell_type": "code",
   "execution_count": 25,
   "id": "c13e0567",
   "metadata": {},
   "outputs": [
    {
     "data": {
      "text/html": [
       "<div>\n",
       "<style scoped>\n",
       "    .dataframe tbody tr th:only-of-type {\n",
       "        vertical-align: middle;\n",
       "    }\n",
       "\n",
       "    .dataframe tbody tr th {\n",
       "        vertical-align: top;\n",
       "    }\n",
       "\n",
       "    .dataframe thead th {\n",
       "        text-align: right;\n",
       "    }\n",
       "</style>\n",
       "<table border=\"1\" class=\"dataframe\">\n",
       "  <thead>\n",
       "    <tr style=\"text-align: right;\">\n",
       "      <th></th>\n",
       "      <th>hum_min</th>\n",
       "      <th>60kgs_bag</th>\n",
       "    </tr>\n",
       "  </thead>\n",
       "  <tbody>\n",
       "    <tr>\n",
       "      <th>hum_min</th>\n",
       "      <td>1.000000</td>\n",
       "      <td>-0.544749</td>\n",
       "    </tr>\n",
       "    <tr>\n",
       "      <th>60kgs_bag</th>\n",
       "      <td>-0.544749</td>\n",
       "      <td>1.000000</td>\n",
       "    </tr>\n",
       "  </tbody>\n",
       "</table>\n",
       "</div>"
      ],
      "text/plain": [
       "            hum_min  60kgs_bag\n",
       "hum_min    1.000000  -0.544749\n",
       "60kgs_bag -0.544749   1.000000"
      ]
     },
     "execution_count": 25,
     "metadata": {},
     "output_type": "execute_result"
    }
   ],
   "source": [
    "Weather_coffee[[\"hum_min\",\"60kgs_bag\"]].corr()\n"
   ]
  },
  {
   "cell_type": "code",
   "execution_count": 26,
   "id": "5d226494",
   "metadata": {},
   "outputs": [
    {
     "data": {
      "text/html": [
       "<div>\n",
       "<style scoped>\n",
       "    .dataframe tbody tr th:only-of-type {\n",
       "        vertical-align: middle;\n",
       "    }\n",
       "\n",
       "    .dataframe tbody tr th {\n",
       "        vertical-align: top;\n",
       "    }\n",
       "\n",
       "    .dataframe thead th {\n",
       "        text-align: right;\n",
       "    }\n",
       "</style>\n",
       "<table border=\"1\" class=\"dataframe\">\n",
       "  <thead>\n",
       "    <tr style=\"text-align: right;\">\n",
       "      <th></th>\n",
       "      <th>rain_max</th>\n",
       "      <th>60kgs_bag</th>\n",
       "    </tr>\n",
       "  </thead>\n",
       "  <tbody>\n",
       "    <tr>\n",
       "      <th>rain_max</th>\n",
       "      <td>1.000000</td>\n",
       "      <td>-0.385792</td>\n",
       "    </tr>\n",
       "    <tr>\n",
       "      <th>60kgs_bag</th>\n",
       "      <td>-0.385792</td>\n",
       "      <td>1.000000</td>\n",
       "    </tr>\n",
       "  </tbody>\n",
       "</table>\n",
       "</div>"
      ],
      "text/plain": [
       "           rain_max  60kgs_bag\n",
       "rain_max   1.000000  -0.385792\n",
       "60kgs_bag -0.385792   1.000000"
      ]
     },
     "execution_count": 26,
     "metadata": {},
     "output_type": "execute_result"
    }
   ],
   "source": [
    "Weather_coffee[[\"rain_max\",\"60kgs_bag\"]].corr()\n"
   ]
  },
  {
   "cell_type": "code",
   "execution_count": 27,
   "id": "9cfc471a",
   "metadata": {},
   "outputs": [
    {
     "data": {
      "text/html": [
       "<div>\n",
       "<style scoped>\n",
       "    .dataframe tbody tr th:only-of-type {\n",
       "        vertical-align: middle;\n",
       "    }\n",
       "\n",
       "    .dataframe tbody tr th {\n",
       "        vertical-align: top;\n",
       "    }\n",
       "\n",
       "    .dataframe thead th {\n",
       "        text-align: right;\n",
       "    }\n",
       "</style>\n",
       "<table border=\"1\" class=\"dataframe\">\n",
       "  <thead>\n",
       "    <tr style=\"text-align: right;\">\n",
       "      <th></th>\n",
       "      <th>wind_avg</th>\n",
       "      <th>60kgs_bag</th>\n",
       "    </tr>\n",
       "  </thead>\n",
       "  <tbody>\n",
       "    <tr>\n",
       "      <th>wind_avg</th>\n",
       "      <td>1.000000</td>\n",
       "      <td>-0.704927</td>\n",
       "    </tr>\n",
       "    <tr>\n",
       "      <th>60kgs_bag</th>\n",
       "      <td>-0.704927</td>\n",
       "      <td>1.000000</td>\n",
       "    </tr>\n",
       "  </tbody>\n",
       "</table>\n",
       "</div>"
      ],
      "text/plain": [
       "           wind_avg  60kgs_bag\n",
       "wind_avg   1.000000  -0.704927\n",
       "60kgs_bag -0.704927   1.000000"
      ]
     },
     "execution_count": 27,
     "metadata": {},
     "output_type": "execute_result"
    }
   ],
   "source": [
    "Weather_coffee[[\"wind_avg\",\"60kgs_bag\"]].corr()\n"
   ]
  },
  {
   "cell_type": "code",
   "execution_count": 28,
   "id": "085977ef",
   "metadata": {},
   "outputs": [
    {
     "data": {
      "text/plain": [
       "<Axes: xlabel='temp_avg', ylabel='bearing_trees'>"
      ]
     },
     "execution_count": 28,
     "metadata": {},
     "output_type": "execute_result"
    },
    {
     "data": {
      "image/png": "[encoded data removed]",
      "text/plain": [
       "<Figure size 640x480 with 1 Axes>"
      ]
     },
     "metadata": {},
     "output_type": "display_data"
    }
   ],
   "source": [
    "sns.scatterplot(Weather_coffee, x=Weather_coffee[\"temp_avg\"], y=Weather_coffee[\"bearing_trees\"])"
   ]
  },
  {
   "cell_type": "code",
   "execution_count": 29,
   "id": "04f8ce44",
   "metadata": {},
   "outputs": [
    {
     "data": {
      "text/plain": [
       "<Axes: xlabel='hum_min', ylabel='nonbearing_trees'>"
      ]
     },
     "execution_count": 29,
     "metadata": {},
     "output_type": "execute_result"
    },
    {
     "data": {
      "image/png": "[encoded data removed]",
      "text/plain": [
       "<Figure size 640x480 with 1 Axes>"
      ]
     },
     "metadata": {},
     "output_type": "display_data"
    }
   ],
   "source": [
    "sns.scatterplot(Weather_coffee, x=Weather_coffee[\"hum_min\"], y=Weather_coffee[\"nonbearing_trees\"])"
   ]
  },
  {
   "cell_type": "code",
   "execution_count": 30,
   "id": "9637510b",
   "metadata": {},
   "outputs": [
    {
     "data": {
      "text/plain": [
       "<Axes: xlabel='rain_max', ylabel='bearing_trees_per_hectare'>"
      ]
     },
     "execution_count": 30,
     "metadata": {},
     "output_type": "execute_result"
    },
    {
     "data": {
      "image/png": "[encoded data removed]",
      "text/plain": [
       "<Figure size 640x480 with 1 Axes>"
      ]
     },
     "metadata": {},
     "output_type": "display_data"
    }
   ],
   "source": [
    "sns.scatterplot(Weather_coffee, x=Weather_coffee[\"rain_max\"], y=Weather_coffee[\"bearing_trees_per_hectare\"])"
   ]
  },
  {
   "cell_type": "markdown",
   "id": "a33e1db5",
   "metadata": {},
   "source": [
    "## Reflections\n",
    "\n",
    "Answer each question based on the visualizations that you've generated.\n",
    "\n",
    "Remember, you must justify your answers with proof! Look back to W6D3 for more context."
   ]
  },
  {
   "cell_type": "markdown",
   "id": "fe46532b",
   "metadata": {},
   "source": [
    "What is the relationship between temp_avg and 60kgs_bag? How *strong* is this relationship? Use pearson's correlation coefficient.\n",
    "\n",
    "It seems that the relationship between average temperature and 60kgs bags is a negative relationship."
   ]
  },
  {
   "cell_type": "markdown",
   "id": "ccd4f1e8",
   "metadata": {},
   "source": [
    "What is the relationship between minimum humidity and 60kgs_bag? How *strong* is this relationship? Use pearson's correlation coefficient.\n",
    "\n",
    "It seems that the relationship between minimum humidity and 60kgs bags is a negative relationship."
   ]
  },
  {
   "cell_type": "markdown",
   "id": "0b500aa4",
   "metadata": {},
   "source": [
    "What is the relationship between rain_max and 60kgs_bag? How *strong* is this relationship? Use pearson's correlation coefficient.\n",
    "\n",
    "It seems that the relationship between maximum rain and 60kgs bags is a negative relationship."
   ]
  },
  {
   "cell_type": "markdown",
   "id": "be3dab9c",
   "metadata": {},
   "source": [
    "What is the relationship between average wind speed and 60kgs_bag? How *strong* is this relationship? Use pearson's correlation coefficient.\n",
    "\n",
    "Answer here"
   ]
  },
  {
   "cell_type": "markdown",
   "id": "ee6ea06a",
   "metadata": {},
   "source": [
    "Perform the same bivariate analysis between the mentioned weather columns (temp_avg, hum_min, rain_max, and wind_avg) and a coffee-related column of your choice (bearing_trees, nonbearing_trees, bearing_trees_per_hectare, etc). Which directions do these relationships follow? What are the strengths of these relationships?\n",
    "\n",
    "Judging by the visualizations, we can infer that there is a weak relationship between average temperature, minimium humidity, maximum rain, and average wind speed, in relation to bearing trees, nonbearing trees, and bearing trees per hectare."
   ]
  },
  {
   "cell_type": "markdown",
   "id": "18ba1ed2",
   "metadata": {},
   "source": [
    "Which weather factor seems to influence coffee production the most? \n",
    "\n",
    "Judging by my analysis, it doesnt seem like the weather is a factor in coffee production, due to the weak and negative relationships between the weather and the trees."
   ]
  },
  {
   "cell_type": "markdown",
   "id": "95e8c38b",
   "metadata": {},
   "source": [
    "Which data would you collect to continue exploring the impacts of weather and economic forces on coffee production?\n",
    "\n",
    "I would probably collect data for specfic seasons to show the impact of seasonal weather changes on coffee production."
   ]
  },
  {
   "cell_type": "markdown",
   "id": "0ca6f497",
   "metadata": {},
   "source": [
    "If you were preparing a report to provide coffee farmers, which weather condititions would you state are the most favorable for coffee growing (assuming any exist)?\n",
    "\n",
    "My data visualizations did not provide me with a conclusive weather condition that would be favorable for farmers at this point."
   ]
  }
 ],
 "metadata": {
  "kernelspec": {
   "display_name": "ds",
   "language": "python",
   "name": "python3"
  },
  "language_info": {
   "codemirror_mode": {
    "name": "ipython",
    "version": 3
   },
   "file_extension": ".py",
   "mimetype": "text/x-python",
   "name": "python",
   "nbconvert_exporter": "python",
   "pygments_lexer": "ipython3",
   "version": "3.12.9"
  }
 },
 "nbformat": 4,
 "nbformat_minor": 5
}
